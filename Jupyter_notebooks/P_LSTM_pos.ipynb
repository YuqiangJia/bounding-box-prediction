{
 "cells": [
  {
   "cell_type": "code",
   "execution_count": 1,
   "metadata": {},
   "outputs": [
    {
     "name": "stdout",
     "output_type": "stream",
     "text": [
      "importing Jupyter notebook from DataLoader_P_speed.ipynb\n",
      "importing Jupyter notebook from utils.ipynb\n"
     ]
    }
   ],
   "source": [
    "import torch\n",
    "import torch.nn as nn\n",
    "import torch.nn.functional as F\n",
    "import torch.optim as optim\n",
    "\n",
    "import import_ipynb\n",
    "import DataLoader_P_speed\n",
    "import utils\n",
    "import time\n",
    "import numpy as np"
   ]
  },
  {
   "cell_type": "code",
   "execution_count": 2,
   "metadata": {},
   "outputs": [],
   "source": [
    "class args():\n",
    "    def __init__(self):\n",
    "        self.base_out_features = 2048\n",
    "        self.t_obs = 8\n",
    "        self.batch_size = 20\n",
    "        self.scene_shape = [3, 144, 256]\n",
    "        self.base_shape = [2048, 9, 16]\n",
    "        self.hidden_size = 128\n",
    "        self.embedding_size = 64\n",
    "        self.input_size = 2\n",
    "        self.output_size = 2\n",
    "        self.sample = True\n",
    "        self.n_train_sequences = 12000\n",
    "        self.n_val_sequences = 3000\n",
    "        self.trainOrVal = 'train'\n",
    "        args.citywalks = False\n",
    "        \n",
    "        #dataset\n",
    "        self.jaad_dataset = '../../../../data/smailait-data/jaad/annotations'\n",
    "        self.dtype = 'train'\n",
    "        self.from_file = True\n",
    "        self.file = '/data/smailait-data/train_speed.csv'\n",
    "        self.val_file = '/data/smailait-data/val_speed.csv'\n",
    "        self.seq_len = 4\n",
    "        self.predicted_seq_len = 4\n",
    "        self.crop = 0.3\n",
    "        self.activity_h = 9\n",
    "        self.activity_w = 16\n",
    "        self.truncate = 0\n",
    "        self.final_frame_offset = 0\n",
    "        self.loader_workers = 20\n",
    "        self.loader_shuffle = True\n",
    "        self.pin_memory = False\n",
    "        self.image_resize = [144, 256]\n",
    "        self.image_size = [1080, 1920]\n",
    "        self.device='cuda'\n",
    "        \n",
    "args = args()"
   ]
  },
  {
   "cell_type": "code",
   "execution_count": 3,
   "metadata": {},
   "outputs": [],
   "source": [
    "class P_LSTM(nn.Module):\n",
    "    def __init__(self):\n",
    "        super(P_LSTM, self).__init__()\n",
    "        \n",
    "        self.encoder = nn.LSTM(input_size=4, hidden_size=256)\n",
    "        \n",
    "        self.decoder = nn.LSTMCell(input_size=4, hidden_size=256)\n",
    "        \n",
    "        self.out = nn.Linear(in_features=256, out_features=4)\n",
    "        \n",
    "        self.activation = nn.ReLU()\n",
    "        \n",
    "    def forward(self, input_):\n",
    "        _, (h, c) = self.encoder(input_.permute(1,0,2))\n",
    "        outputs = torch.tensor([], device='cuda')\n",
    "        in_dec = input_[:,-1,:]\n",
    "        h = h.squeeze(0)\n",
    "        c = c.squeeze(0)\n",
    "        for i in range(8):\n",
    "            h, c = self.decoder(in_dec, (h, c))\n",
    "            output = self.activation(self.out(h))\n",
    "            outputs = torch.cat((outputs, output.unsqueeze(1)), dim = 1)\n",
    "            in_dec = output.detach()\n",
    "        return outputs"
   ]
  },
  {
   "cell_type": "code",
   "execution_count": 4,
   "metadata": {},
   "outputs": [],
   "source": [
    "net = P_LSTM().to('cuda')"
   ]
  },
  {
   "cell_type": "code",
   "execution_count": 5,
   "metadata": {},
   "outputs": [
    {
     "name": "stdout",
     "output_type": "stream",
     "text": [
      "frame\n",
      "crossing_true\n",
      "imagefolderpath\n",
      "scenefolderpath\n",
      "filename\n",
      "file\n",
      "bounding_box\n",
      "im_size\n",
      "future_bounding_box\n",
      "train  loaded\n",
      "frame\n",
      "crossing_true\n",
      "imagefolderpath\n",
      "scenefolderpath\n",
      "filename\n",
      "file\n",
      "bounding_box\n",
      "im_size\n",
      "future_bounding_box\n",
      "train  loaded\n",
      "frame\n",
      "crossing_true\n",
      "imagefolderpath\n",
      "scenefolderpath\n",
      "filename\n",
      "file\n",
      "bounding_box\n",
      "im_size\n",
      "future_bounding_box\n",
      "val  loaded\n"
     ]
    }
   ],
   "source": [
    "train, val, test = DataLoader_P_speed.data_loader(args)"
   ]
  },
  {
   "cell_type": "code",
   "execution_count": 6,
   "metadata": {},
   "outputs": [],
   "source": [
    "learning_rate = 0.001\n",
    "optimizer = optim.Adam(net.parameters(), lr=learning_rate)\n",
    "scheduler = optim.lr_scheduler.ReduceLROnPlateau(optimizer, factor=0.1, patience=10, threshold = 1e-4, verbose=True)\n",
    "criterion = nn.MSELoss()\n",
    "train_scores = []\n",
    "val_scores = []"
   ]
  },
  {
   "cell_type": "code",
   "execution_count": 7,
   "metadata": {
    "scrolled": true
   },
   "outputs": [
    {
     "name": "stdout",
     "output_type": "stream",
     "text": [
      "e: 0  | t_loss: 33.6954  | v_loss: 26.6677 | ade: 962.9426 | fde: 965.7443 | aiou: 0.0000 | fiou: 0.0000\n",
      "e: 1  | t_loss: 24.1978  | v_loss: 19.0371 | ade: 791.4273 | fde: 793.6944 | aiou: 0.0000 | fiou: 0.0000\n",
      "e: 2  | t_loss: 17.5575  | v_loss: 13.7163 | ade: 649.9295 | fde: 652.3553 | aiou: 0.0000 | fiou: 0.0000\n",
      "e: 3  | t_loss: 12.9515  | v_loss: 10.1308 | ade: 541.3392 | fde: 544.9409 | aiou: 0.0005 | fiou: 0.0006\n",
      "e: 4  | t_loss: 9.7966  | v_loss: 7.7244 | ade: 461.8297 | fde: 467.0661 | aiou: 0.0022 | fiou: 0.0022\n",
      "e: 5  | t_loss: 7.6092  | v_loss: 6.0680 | ade: 401.9812 | fde: 409.1362 | aiou: 0.0056 | fiou: 0.0055\n",
      "e: 6  | t_loss: 6.0414  | v_loss: 4.8720 | ade: 355.0601 | fde: 365.0540 | aiou: 0.0097 | fiou: 0.0096\n",
      "e: 7  | t_loss: 4.8765  | v_loss: 3.9749 | ade: 315.9939 | fde: 326.7173 | aiou: 0.0141 | fiou: 0.0126\n",
      "e: 8  | t_loss: 3.9042  | v_loss: 3.2018 | ade: 279.6132 | fde: 288.0046 | aiou: 0.0156 | fiou: 0.0164\n",
      "e: 9  | t_loss: 3.1367  | v_loss: 2.6255 | ade: 248.3458 | fde: 258.3893 | aiou: 0.0222 | fiou: 0.0234\n",
      "e: 10  | t_loss: 2.5182  | v_loss: 2.0650 | ade: 213.0029 | fde: 229.0781 | aiou: 0.0311 | fiou: 0.0220\n",
      "e: 11  | t_loss: 1.9736  | v_loss: 1.6157 | ade: 181.3798 | fde: 197.7211 | aiou: 0.0484 | fiou: 0.0330\n",
      "e: 12  | t_loss: 1.5315  | v_loss: 1.2597 | ade: 154.9641 | fde: 170.9620 | aiou: 0.0627 | fiou: 0.0416\n",
      "e: 13  | t_loss: 1.1961  | v_loss: 0.9819 | ade: 134.5350 | fde: 150.1442 | aiou: 0.0703 | fiou: 0.0499\n",
      "e: 14  | t_loss: 0.9342  | v_loss: 0.7645 | ade: 115.2978 | fde: 133.9916 | aiou: 0.0876 | fiou: 0.0568\n",
      "e: 15  | t_loss: 0.7444  | v_loss: 0.6235 | ade: 104.6027 | fde: 123.3874 | aiou: 0.0922 | fiou: 0.0586\n",
      "e: 16  | t_loss: 0.6112  | v_loss: 0.5095 | ade: 93.2026 | fde: 113.8713 | aiou: 0.1120 | fiou: 0.0631\n",
      "e: 17  | t_loss: 0.5056  | v_loss: 0.4279 | ade: 84.7501 | fde: 103.9233 | aiou: 0.1302 | fiou: 0.0822\n",
      "e: 18  | t_loss: 0.4266  | v_loss: 0.3659 | ade: 78.1473 | fde: 95.8543 | aiou: 0.1433 | fiou: 0.1006\n",
      "e: 19  | t_loss: 0.3610  | v_loss: 0.3092 | ade: 71.7353 | fde: 89.7303 | aiou: 0.1574 | fiou: 0.0954\n",
      "e: 20  | t_loss: 0.3137  | v_loss: 0.2897 | ade: 72.2056 | fde: 90.9483 | aiou: 0.1454 | fiou: 0.0872\n",
      "e: 21  | t_loss: 0.2728  | v_loss: 0.2478 | ade: 65.2575 | fde: 82.5810 | aiou: 0.1669 | fiou: 0.1143\n",
      "e: 22  | t_loss: 0.2465  | v_loss: 0.2275 | ade: 63.5000 | fde: 81.6308 | aiou: 0.1662 | fiou: 0.1101\n",
      "e: 23  | t_loss: 0.2301  | v_loss: 0.2247 | ade: 63.4533 | fde: 82.0294 | aiou: 0.1673 | fiou: 0.1160\n",
      "e: 24  | t_loss: 0.2149  | v_loss: 0.1839 | ade: 55.1650 | fde: 72.8549 | aiou: 0.1996 | fiou: 0.1409\n",
      "e: 25  | t_loss: 0.1924  | v_loss: 0.1839 | ade: 56.3348 | fde: 73.6632 | aiou: 0.1910 | fiou: 0.1307\n",
      "e: 26  | t_loss: 0.1775  | v_loss: 0.1623 | ade: 52.5978 | fde: 69.7598 | aiou: 0.2133 | fiou: 0.1498\n",
      "e: 27  | t_loss: 0.1606  | v_loss: 0.1673 | ade: 55.5245 | fde: 74.1056 | aiou: 0.1967 | fiou: 0.1302\n",
      "e: 28  | t_loss: 0.1551  | v_loss: 0.1590 | ade: 53.3806 | fde: 69.3365 | aiou: 0.1964 | fiou: 0.1452\n",
      "e: 29  | t_loss: 0.1527  | v_loss: 0.1571 | ade: 53.8802 | fde: 72.4754 | aiou: 0.2003 | fiou: 0.1361\n",
      "e: 30  | t_loss: 0.1447  | v_loss: 0.1454 | ade: 50.0278 | fde: 68.4236 | aiou: 0.2206 | fiou: 0.1512\n",
      "e: 31  | t_loss: 0.1424  | v_loss: 0.1310 | ade: 48.0229 | fde: 66.3450 | aiou: 0.2227 | fiou: 0.1511\n",
      "e: 32  | t_loss: 0.1349  | v_loss: 0.1286 | ade: 48.8105 | fde: 65.8971 | aiou: 0.2167 | fiou: 0.1549\n",
      "e: 33  | t_loss: 0.1356  | v_loss: 0.1401 | ade: 50.7620 | fde: 68.1823 | aiou: 0.2148 | fiou: 0.1484\n",
      "e: 34  | t_loss: 0.1387  | v_loss: 0.1422 | ade: 52.4206 | fde: 74.3586 | aiou: 0.2009 | fiou: 0.1252\n",
      "e: 35  | t_loss: 0.1287  | v_loss: 0.1255 | ade: 47.8314 | fde: 64.9162 | aiou: 0.2283 | fiou: 0.1633\n",
      "e: 36  | t_loss: 0.1213  | v_loss: 0.1304 | ade: 48.1741 | fde: 68.6406 | aiou: 0.2142 | fiou: 0.1350\n",
      "e: 37  | t_loss: 0.1230  | v_loss: 0.1226 | ade: 47.5838 | fde: 62.5158 | aiou: 0.2192 | fiou: 0.1692\n",
      "e: 38  | t_loss: 0.1201  | v_loss: 0.1081 | ade: 42.9022 | fde: 59.2980 | aiou: 0.2482 | fiou: 0.1728\n",
      "e: 39  | t_loss: 0.1147  | v_loss: 0.1467 | ade: 54.2987 | fde: 70.1397 | aiou: 0.1767 | fiou: 0.1377\n",
      "e: 40  | t_loss: 0.1144  | v_loss: 0.1224 | ade: 47.6374 | fde: 66.7436 | aiou: 0.2255 | fiou: 0.1497\n",
      "e: 41  | t_loss: 0.1145  | v_loss: 0.1203 | ade: 47.0743 | fde: 65.4411 | aiou: 0.2262 | fiou: 0.1641\n",
      "e: 42  | t_loss: 0.1098  | v_loss: 0.1104 | ade: 44.9650 | fde: 58.0133 | aiou: 0.2260 | fiou: 0.1852\n",
      "e: 43  | t_loss: 0.1095  | v_loss: 0.1144 | ade: 45.6462 | fde: 63.3081 | aiou: 0.2289 | fiou: 0.1585\n",
      "e: 44  | t_loss: 0.1133  | v_loss: 0.1280 | ade: 48.6023 | fde: 67.9937 | aiou: 0.2205 | fiou: 0.1498\n",
      "e: 45  | t_loss: 0.1107  | v_loss: 0.1074 | ade: 44.6423 | fde: 60.6580 | aiou: 0.2261 | fiou: 0.1737\n",
      "e: 46  | t_loss: 0.1044  | v_loss: 0.1143 | ade: 44.9355 | fde: 62.9670 | aiou: 0.2411 | fiou: 0.1613\n",
      "e: 47  | t_loss: 0.1011  | v_loss: 0.1056 | ade: 43.3585 | fde: 58.2159 | aiou: 0.2422 | fiou: 0.1856\n",
      "e: 48  | t_loss: 0.0969  | v_loss: 0.0996 | ade: 41.4022 | fde: 56.9175 | aiou: 0.2542 | fiou: 0.1889\n",
      "e: 49  | t_loss: 0.1023  | v_loss: 0.1250 | ade: 51.0513 | fde: 69.4690 | aiou: 0.1979 | fiou: 0.1396\n",
      "e: 50  | t_loss: 0.1016  | v_loss: 0.0969 | ade: 40.3715 | fde: 60.1898 | aiou: 0.2665 | fiou: 0.1697\n",
      "Epoch    51: reducing learning rate of group 0 to 1.0000e-04.\n",
      "e: 51  | t_loss: 0.1007  | v_loss: 0.1142 | ade: 47.8110 | fde: 63.0145 | aiou: 0.2102 | fiou: 0.1599\n",
      "e: 52  | t_loss: 0.0814  | v_loss: 0.0867 | ade: 37.6089 | fde: 53.1189 | aiou: 0.2898 | fiou: 0.2091\n",
      "e: 53  | t_loss: 0.0749  | v_loss: 0.0832 | ade: 36.3316 | fde: 52.0854 | aiou: 0.3010 | fiou: 0.2123\n",
      "e: 54  | t_loss: 0.0724  | v_loss: 0.0822 | ade: 35.9058 | fde: 52.7238 | aiou: 0.3047 | fiou: 0.2068\n",
      "e: 55  | t_loss: 0.0705  | v_loss: 0.0798 | ade: 35.6564 | fde: 50.8958 | aiou: 0.3037 | fiou: 0.2188\n",
      "e: 56  | t_loss: 0.0693  | v_loss: 0.0780 | ade: 35.1546 | fde: 50.5295 | aiou: 0.3061 | fiou: 0.2191\n",
      "e: 57  | t_loss: 0.0675  | v_loss: 0.0786 | ade: 35.9850 | fde: 50.5623 | aiou: 0.2949 | fiou: 0.2219\n",
      "e: 58  | t_loss: 0.0667  | v_loss: 0.0806 | ade: 37.0502 | fde: 51.5649 | aiou: 0.2848 | fiou: 0.2109\n",
      "e: 59  | t_loss: 0.0659  | v_loss: 0.0745 | ade: 34.0655 | fde: 49.2776 | aiou: 0.3162 | fiou: 0.2228\n",
      "e: 60  | t_loss: 0.0647  | v_loss: 0.0740 | ade: 33.9383 | fde: 49.5150 | aiou: 0.3176 | fiou: 0.2297\n",
      "e: 61  | t_loss: 0.0643  | v_loss: 0.0723 | ade: 33.7297 | fde: 48.0718 | aiou: 0.3181 | fiou: 0.2383\n",
      "e: 62  | t_loss: 0.0626  | v_loss: 0.0708 | ade: 33.0214 | fde: 48.1903 | aiou: 0.3257 | fiou: 0.2366\n",
      "e: 63  | t_loss: 0.0622  | v_loss: 0.0694 | ade: 32.6240 | fde: 47.8279 | aiou: 0.3280 | fiou: 0.2339\n",
      "e: 64  | t_loss: 0.0614  | v_loss: 0.0715 | ade: 33.9241 | fde: 48.2793 | aiou: 0.3093 | fiou: 0.2294\n",
      "e: 65  | t_loss: 0.0605  | v_loss: 0.0681 | ade: 32.4460 | fde: 46.4961 | aiou: 0.3270 | fiou: 0.2478\n",
      "e: 66  | t_loss: 0.0597  | v_loss: 0.0679 | ade: 32.1771 | fde: 46.6740 | aiou: 0.3334 | fiou: 0.2445\n",
      "e: 67  | t_loss: 0.0593  | v_loss: 0.0696 | ade: 33.2115 | fde: 48.3464 | aiou: 0.3211 | fiou: 0.2353\n",
      "e: 68  | t_loss: 0.0588  | v_loss: 0.0671 | ade: 32.3800 | fde: 48.3329 | aiou: 0.3296 | fiou: 0.2361\n",
      "e: 69  | t_loss: 0.0585  | v_loss: 0.0663 | ade: 31.9176 | fde: 46.7223 | aiou: 0.3381 | fiou: 0.2454\n",
      "e: 70  | t_loss: 0.0582  | v_loss: 0.0688 | ade: 33.2042 | fde: 48.1016 | aiou: 0.3171 | fiou: 0.2349\n",
      "e: 71  | t_loss: 0.0579  | v_loss: 0.0661 | ade: 31.4251 | fde: 46.4324 | aiou: 0.3417 | fiou: 0.2544\n",
      "e: 72  | t_loss: 0.0574  | v_loss: 0.0662 | ade: 31.6593 | fde: 45.8102 | aiou: 0.3400 | fiou: 0.2524\n",
      "Epoch    73: reducing learning rate of group 0 to 1.0000e-05.\n",
      "e: 73  | t_loss: 0.0571  | v_loss: 0.0653 | ade: 31.4691 | fde: 46.3661 | aiou: 0.3354 | fiou: 0.2464\n",
      "e: 74  | t_loss: 0.0553  | v_loss: 0.0638 | ade: 30.8966 | fde: 45.4257 | aiou: 0.3437 | fiou: 0.2551\n",
      "e: 75  | t_loss: 0.0545  | v_loss: 0.0635 | ade: 30.7125 | fde: 45.1807 | aiou: 0.3449 | fiou: 0.2572\n",
      "e: 76  | t_loss: 0.0541  | v_loss: 0.0634 | ade: 30.6891 | fde: 45.1404 | aiou: 0.3453 | fiou: 0.2589\n",
      "e: 77  | t_loss: 0.0539  | v_loss: 0.0636 | ade: 30.6788 | fde: 45.1726 | aiou: 0.3466 | fiou: 0.2600\n",
      "e: 78  | t_loss: 0.0538  | v_loss: 0.0637 | ade: 30.7765 | fde: 45.1209 | aiou: 0.3453 | fiou: 0.2604\n"
     ]
    },
    {
     "name": "stdout",
     "output_type": "stream",
     "text": [
      "e: 79  | t_loss: 0.0537  | v_loss: 0.0636 | ade: 30.7564 | fde: 45.0746 | aiou: 0.3453 | fiou: 0.2606\n",
      "e: 80  | t_loss: 0.0536  | v_loss: 0.0636 | ade: 30.6863 | fde: 45.0980 | aiou: 0.3459 | fiou: 0.2600\n",
      "e: 81  | t_loss: 0.0535  | v_loss: 0.0635 | ade: 30.7579 | fde: 45.0156 | aiou: 0.3453 | fiou: 0.2604\n",
      "e: 82  | t_loss: 0.0534  | v_loss: 0.0633 | ade: 30.6708 | fde: 45.0120 | aiou: 0.3463 | fiou: 0.2601\n",
      "e: 83  | t_loss: 0.0533  | v_loss: 0.0633 | ade: 30.6566 | fde: 45.2224 | aiou: 0.3466 | fiou: 0.2579\n",
      "Epoch    84: reducing learning rate of group 0 to 1.0000e-06.\n",
      "e: 84  | t_loss: 0.0532  | v_loss: 0.0633 | ade: 30.6932 | fde: 45.1546 | aiou: 0.3452 | fiou: 0.2567\n",
      "e: 85  | t_loss: 0.0529  | v_loss: 0.0632 | ade: 30.6591 | fde: 45.1405 | aiou: 0.3453 | fiou: 0.2575\n",
      "e: 86  | t_loss: 0.0529  | v_loss: 0.0632 | ade: 30.6618 | fde: 45.1340 | aiou: 0.3454 | fiou: 0.2578\n",
      "e: 87  | t_loss: 0.0529  | v_loss: 0.0632 | ade: 30.6392 | fde: 45.1403 | aiou: 0.3459 | fiou: 0.2581\n",
      "e: 88  | t_loss: 0.0529  | v_loss: 0.0632 | ade: 30.6238 | fde: 45.0976 | aiou: 0.3462 | fiou: 0.2583\n",
      "e: 89  | t_loss: 0.0529  | v_loss: 0.0632 | ade: 30.6187 | fde: 45.1274 | aiou: 0.3463 | fiou: 0.2585\n",
      "e: 90  | t_loss: 0.0528  | v_loss: 0.0632 | ade: 30.6329 | fde: 45.1162 | aiou: 0.3462 | fiou: 0.2586\n",
      "e: 91  | t_loss: 0.0528  | v_loss: 0.0632 | ade: 30.6254 | fde: 45.1312 | aiou: 0.3463 | fiou: 0.2584\n",
      "e: 92  | t_loss: 0.0528  | v_loss: 0.0632 | ade: 30.6318 | fde: 45.1147 | aiou: 0.3462 | fiou: 0.2586\n",
      "e: 93  | t_loss: 0.0528  | v_loss: 0.0632 | ade: 30.6206 | fde: 45.1320 | aiou: 0.3464 | fiou: 0.2584\n",
      "e: 94  | t_loss: 0.0528  | v_loss: 0.0632 | ade: 30.6268 | fde: 45.1140 | aiou: 0.3464 | fiou: 0.2587\n",
      "Epoch    95: reducing learning rate of group 0 to 1.0000e-07.\n",
      "e: 95  | t_loss: 0.0528  | v_loss: 0.0626 | ade: 30.5518 | fde: 44.9964 | aiou: 0.3466 | fiou: 0.2587\n",
      "e: 96  | t_loss: 0.0528  | v_loss: 0.0632 | ade: 30.6153 | fde: 45.1244 | aiou: 0.3466 | fiou: 0.2586\n",
      "e: 97  | t_loss: 0.0527  | v_loss: 0.0632 | ade: 30.6068 | fde: 45.1115 | aiou: 0.3466 | fiou: 0.2587\n",
      "e: 98  | t_loss: 0.0527  | v_loss: 0.0632 | ade: 30.6171 | fde: 45.1239 | aiou: 0.3465 | fiou: 0.2587\n",
      "e: 99  | t_loss: 0.0527  | v_loss: 0.0632 | ade: 30.6105 | fde: 45.1106 | aiou: 0.3466 | fiou: 0.2587\n"
     ]
    }
   ],
   "source": [
    "for epoch in range(100):\n",
    "    avg_epoch_train_loss = 0\n",
    "    avg_epoch_val_loss = 0\n",
    "    ade = 0\n",
    "    fde = 0\n",
    "    aiou = 0\n",
    "    fiou = 0\n",
    "    counter = 0\n",
    "    for idx, (_, _, obs, target) in enumerate(train):\n",
    "        counter += 1\n",
    "        obs = obs.type(torch.float32).to(device='cuda')\n",
    "        target = target.type(torch.float32).to(device='cuda')\n",
    "        \n",
    "        net.zero_grad()\n",
    "        preds = net(obs)\n",
    "        train_loss = criterion(preds, target[:,:-1,:])/10000\n",
    "        train_loss.backward()\n",
    "        optimizer.step()\n",
    "        \n",
    "        avg_epoch_train_loss += float(train_loss)\n",
    "        \n",
    "    avg_epoch_train_loss/=counter\n",
    "    train_scores.append(avg_epoch_train_loss)\n",
    "    \n",
    "    counter=0\n",
    "    for idx, (_, _, obs, target) in enumerate(val):\n",
    "        counter+=1\n",
    "        obs = obs.type(torch.float32).to(device='cuda')\n",
    "        target = target.type(torch.float32).to(device='cuda')\n",
    "        \n",
    "        with torch.no_grad():\n",
    "            preds = net(obs)\n",
    "            val_loss = criterion(preds, target[:,:-1,:])/10000\n",
    "            ade += float(utils.ADE_c(preds, target[:,:-1,:]))\n",
    "            fde += float(utils.FDE_c(preds, target[:,:-1,:]))\n",
    "            aiou += float(utils.AIOU(preds, target[:,:-1,:].to('cuda')))\n",
    "            fiou += float(utils.FIOU(preds, target[:,:-1,:].to('cuda')))\n",
    "            \n",
    "        avg_epoch_val_loss += float(val_loss)\n",
    "        \n",
    "    avg_epoch_val_loss/=counter\n",
    "    val_scores.append(avg_epoch_val_loss)\n",
    "    ade/=counter\n",
    "    fde/=counter\n",
    "    aiou/=counter\n",
    "    fiou/=counter\n",
    "    \n",
    "    scheduler.step(val_loss)\n",
    "    \n",
    "    \n",
    "    print('e:', epoch, ' | t_loss: %.4f'% avg_epoch_train_loss, ' | v_loss: %.4f'% avg_epoch_val_loss, \n",
    "          '| ade: %.4f'% ade, '| fde: %.4f'% fde, '| aiou: %.4f'% aiou, '| fiou: %.4f'% fiou)\n"
   ]
  },
  {
   "cell_type": "code",
   "execution_count": 8,
   "metadata": {},
   "outputs": [
    {
     "data": {
      "image/png": "[encoded data removed]",
      "text/plain": [
       "<Figure size 2160x1440 with 1 Axes>"
      ]
     },
     "metadata": {
      "needs_background": "light"
     },
     "output_type": "display_data"
    }
   ],
   "source": [
    "import matplotlib.pyplot as plt\n",
    "plt.figure(figsize=(30,20))\n",
    "plt.plot(list(range(len(train_scores))), train_scores)\n",
    "plt.plot(list(range(len(val_scores))), val_scores)\n",
    "plt.show()"
   ]
  },
  {
   "cell_type": "code",
   "execution_count": 9,
   "metadata": {},
   "outputs": [],
   "source": [
    "#torch.save(net.state_dict(), '/data/smailait-data/baseline_models/seq2seq/seq2seq_pos_250epochs.pkl')"
   ]
  },
  {
   "cell_type": "code",
   "execution_count": 11,
   "metadata": {},
   "outputs": [
    {
     "name": "stdout",
     "output_type": "stream",
     "text": [
      "val_loss: 614.1133 | ade: 31.5134 | fde: 46.4679 | aiou: 0.3903 | fiou: 0.2985\n"
     ]
    }
   ],
   "source": [
    "avg_epoch_val_loss = 0\n",
    "ade = 0\n",
    "fde = 0\n",
    "aiou = 0\n",
    "fiou = 0\n",
    "counter=0\n",
    "for idx, (_, _, obs, target) in enumerate(test):\n",
    "    counter+=1\n",
    "    obs = obs.type(torch.float32).to(device='cuda')\n",
    "    target = target.type(torch.float32).to(device='cuda')\n",
    "\n",
    "    with torch.no_grad():\n",
    "        preds = net(obs)\n",
    "        val_loss = criterion(preds, target[:,:-1,:])\n",
    "        ade += float(utils.ADE_c(preds, target[:,:-1,:].to('cuda')))\n",
    "        fde += float(utils.FDE_c(preds, target[:,:-1,:].to('cuda')))\n",
    "        aiou += float(utils.AIOU(preds, target[:,:-1,:].to('cuda')))\n",
    "        fiou += float(utils.FIOU(preds, target[:,:-1,:].to('cuda')))\n",
    "\n",
    "    avg_epoch_val_loss += float(val_loss)\n",
    "\n",
    "avg_epoch_val_loss/=counter\n",
    "ade/=counter\n",
    "fde/=counter     \n",
    "aiou/=counter\n",
    "fiou/=counter\n",
    "print('val_loss: %.4f'% avg_epoch_val_loss, '| ade: %.4f'% ade, '| fde: %.4f'% fde, \n",
    "      '| aiou: %.4f'% aiou, '| fiou: %.4f'% fiou)"
   ]
  },
  {
   "cell_type": "code",
   "execution_count": null,
   "metadata": {},
   "outputs": [],
   "source": []
  }
 ],
 "metadata": {
  "kernelspec": {
   "display_name": "Python 3",
   "language": "python",
   "name": "python3"
  },
  "language_info": {
   "codemirror_mode": {
    "name": "ipython",
    "version": 3
   },
   "file_extension": ".py",
   "mimetype": "text/x-python",
   "name": "python",
   "nbconvert_exporter": "python",
   "pygments_lexer": "ipython3",
   "version": "3.6.8"
  }
 },
 "nbformat": 4,
 "nbformat_minor": 2
}
